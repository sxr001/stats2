{
 "metadata": {
  "name": ""
 },
 "nbformat": 3,
 "nbformat_minor": 0,
 "worksheets": [
  {
   "cells": [
    {
     "cell_type": "markdown",
     "metadata": {},
     "source": [
      "Sean Barberie | Geos430 | Homework 2\n",
      "---\n",
      "\n",
      "To make grading easier (and so that you don't have to dig through a bunch of calculations), I'm going to highlight my answers in PINK and I'm going to underline the equations I used in BLUE. I also wrote out all the equations using LaTex formatting to make them easier to read."
     ]
    },
    {
     "cell_type": "code",
     "collapsed": false,
     "input": [
      "% pylab inline"
     ],
     "language": "python",
     "metadata": {},
     "outputs": [
      {
       "output_type": "stream",
       "stream": "stdout",
       "text": [
        "Populating the interactive namespace from numpy and matplotlib\n"
       ]
      }
     ],
     "prompt_number": 23
    },
    {
     "cell_type": "code",
     "collapsed": false,
     "input": [
      "import numpy as np\n",
      "import matplotlib.pyplot as plt\n",
      "import math"
     ],
     "language": "python",
     "metadata": {},
     "outputs": [],
     "prompt_number": 24
    },
    {
     "cell_type": "markdown",
     "metadata": {},
     "source": [
      "Problem 1: Summary Statistics\n",
      "----"
     ]
    },
    {
     "cell_type": "code",
     "collapsed": false,
     "input": [
      "x = np.linspace(1,20,20)"
     ],
     "language": "python",
     "metadata": {},
     "outputs": [],
     "prompt_number": 25
    },
    {
     "cell_type": "code",
     "collapsed": false,
     "input": [
      "y = [9,8,3,4,4,6,14,17,15,15,22,86,37,19,130,46,25,52,14,45]"
     ],
     "language": "python",
     "metadata": {},
     "outputs": [],
     "prompt_number": 26
    },
    {
     "cell_type": "code",
     "collapsed": false,
     "input": [
      "y = np.array(y)"
     ],
     "language": "python",
     "metadata": {},
     "outputs": [],
     "prompt_number": 27
    },
    {
     "cell_type": "markdown",
     "metadata": {},
     "source": [
      "<b>Problem 1 a.)\n",
      "---"
     ]
    },
    {
     "cell_type": "markdown",
     "metadata": {},
     "source": [
      "<b>Arithmetric Mean\n",
      "\n",
      "\n",
      "$ \\bar{x} =  \\sum_{i=1}^{n} x_i / n $"
     ]
    },
    {
     "cell_type": "code",
     "collapsed": false,
     "input": [
      "y_mean = (np.sum(y))/float(len(y))"
     ],
     "language": "python",
     "metadata": {},
     "outputs": [],
     "prompt_number": 28
    },
    {
     "cell_type": "code",
     "collapsed": false,
     "input": [
      "y_mean"
     ],
     "language": "python",
     "metadata": {},
     "outputs": [
      {
       "metadata": {},
       "output_type": "pyout",
       "prompt_number": 29,
       "text": [
        "28.550000000000001"
       ]
      }
     ],
     "prompt_number": 29
    },
    {
     "cell_type": "markdown",
     "metadata": {},
     "source": [
      "<b> Variance\n",
      "\n",
      "$ s^2  = \\sum_{i=1}^n (x_i - \\bar{x})^2 / (n-1)$"
     ]
    },
    {
     "cell_type": "code",
     "collapsed": false,
     "input": [
      "a = 0.0\n",
      "for x in y:\n",
      "    a = a +(x-y_mean)**2.0\n",
      "    \n",
      "y_variance = a/(len(y)-1)\n",
      "print y_variance    \n",
      "    "
     ],
     "language": "python",
     "metadata": {},
     "outputs": [
      {
       "output_type": "stream",
       "stream": "stdout",
       "text": [
        "1001.62894737\n"
       ]
      }
     ],
     "prompt_number": 30
    },
    {
     "cell_type": "markdown",
     "metadata": {},
     "source": [
      "<b>Standard Deviation\n",
      "\n",
      "$ \\sqrt{s^2} = \\sqrt{ \\sum_{i=1}^n (x_i - \\bar{x})^2 / (n-1)}$"
     ]
    },
    {
     "cell_type": "code",
     "collapsed": false,
     "input": [
      "y_std = math.sqrt(y_variance)\n",
      "print y_std"
     ],
     "language": "python",
     "metadata": {},
     "outputs": [
      {
       "output_type": "stream",
       "stream": "stdout",
       "text": [
        "31.6485220408\n"
       ]
      }
     ],
     "prompt_number": 31
    },
    {
     "cell_type": "markdown",
     "metadata": {},
     "source": [
      "To test this I will try the automated var and std functions"
     ]
    },
    {
     "cell_type": "code",
     "collapsed": false,
     "input": [
      "print np.std(y); print np.var(y)"
     ],
     "language": "python",
     "metadata": {},
     "outputs": [
      {
       "output_type": "stream",
       "stream": "stdout",
       "text": [
        "30.8471635649\n",
        "951.5475\n"
       ]
      }
     ],
     "prompt_number": 32
    },
    {
     "cell_type": "markdown",
     "metadata": {},
     "source": [
      "These are different because the Python Numpy package for calculating the std and var only divide by N, not by N-1."
     ]
    },
    {
     "cell_type": "markdown",
     "metadata": {},
     "source": [
      "<b> Standard Error of the Mean\n",
      "\n",
      "$ SE_{\\bar{X}} = s / \\sqrt{n} $"
     ]
    },
    {
     "cell_type": "code",
     "collapsed": false,
     "input": [
      "y_SEx = y_std/(math.sqrt(len(y)))\n",
      "print y_SEx "
     ],
     "language": "python",
     "metadata": {},
     "outputs": [
      {
       "output_type": "stream",
       "stream": "stdout",
       "text": [
        "7.07682466707\n"
       ]
      }
     ],
     "prompt_number": 33
    },
    {
     "cell_type": "markdown",
     "metadata": {},
     "source": [
      "<b> Skewness\n",
      "\n",
      "$ \\sqrt{b_1} = \\frac{n}{(n-1)(n-1)} \\frac{1}{s^3} \\sum_{i=1}^n (x_i - \\bar{x})^3 $"
     ]
    },
    {
     "cell_type": "code",
     "collapsed": false,
     "input": [
      "n = float(len(y))"
     ],
     "language": "python",
     "metadata": {},
     "outputs": [],
     "prompt_number": 34
    },
    {
     "cell_type": "code",
     "collapsed": false,
     "input": [
      "b = 0.0\n",
      "for x in y:\n",
      "    b = b + (x-y_mean)**3\n",
      "    \n",
      "y_skew = b/y_std**3\n",
      "y_skew = (n/((n-2.0)*(n-1.0))) * y_skew\n",
      "print y_skew"
     ],
     "language": "python",
     "metadata": {},
     "outputs": [
      {
       "output_type": "stream",
       "stream": "stdout",
       "text": [
        "2.15700150994\n"
       ]
      }
     ],
     "prompt_number": 35
    },
    {
     "cell_type": "markdown",
     "metadata": {},
     "source": [
      "The distribution is skewed to the right, it has a long tail to the right."
     ]
    },
    {
     "cell_type": "markdown",
     "metadata": {},
     "source": [
      "<b> Kurtosis\n",
      "\n",
      "$ b_2 = \\frac{n(n+1)}{(n-1)(n-2)(n-3)} \\frac{1}{s^4} \\sum_{i=1}^n (x_i - \\bar{x})^4 - \\frac{3(n-1)(n-1)}{(n-2)(n-3)} $"
     ]
    },
    {
     "cell_type": "code",
     "collapsed": false,
     "input": [
      "c = 0.0\n",
      "for x in y:\n",
      "    c = c + (x-y_mean)**4\n",
      "\n",
      "y_kur = c/y_std**4\n",
      "y_kur = ((n*(n+1.0))/((n-1.0)*(n-2.0)*(n-3.0))) * y_kur\n",
      "y_kur = y_kur - (3*(n-1.0)*(n-1.0))/((n-2.0)*(n-3.0))\n",
      "print y_kur"
     ],
     "language": "python",
     "metadata": {},
     "outputs": [
      {
       "output_type": "stream",
       "stream": "stdout",
       "text": [
        "5.04481426112\n"
       ]
      }
     ],
     "prompt_number": 36
    },
    {
     "cell_type": "markdown",
     "metadata": {},
     "source": [
      "<b>Problem 1 b.)\n",
      "---"
     ]
    },
    {
     "cell_type": "code",
     "collapsed": false,
     "input": [
      "ylog = np.log10(y)"
     ],
     "language": "python",
     "metadata": {},
     "outputs": [],
     "prompt_number": 37
    },
    {
     "cell_type": "code",
     "collapsed": false,
     "input": [
      "ylog"
     ],
     "language": "python",
     "metadata": {},
     "outputs": [
      {
       "metadata": {},
       "output_type": "pyout",
       "prompt_number": 38,
       "text": [
        "array([ 0.95424251,  0.90308999,  0.47712125,  0.60205999,  0.60205999,\n",
        "        0.77815125,  1.14612804,  1.23044892,  1.17609126,  1.17609126,\n",
        "        1.34242268,  1.93449845,  1.56820172,  1.2787536 ,  2.11394335,\n",
        "        1.66275783,  1.39794001,  1.71600334,  1.14612804,  1.65321251])"
       ]
      }
     ],
     "prompt_number": 38
    },
    {
     "cell_type": "markdown",
     "metadata": {},
     "source": [
      "<b>Arithmetic Mean\n",
      "\n",
      "$ \\bar{x} =  \\sum_{i=1}^{n} x_i / n $"
     ]
    },
    {
     "cell_type": "code",
     "collapsed": false,
     "input": [
      "ylog_mean = np.sum(ylog)/(n)\n",
      "print ylog_mean"
     ],
     "language": "python",
     "metadata": {},
     "outputs": [
      {
       "output_type": "stream",
       "stream": "stdout",
       "text": [
        "1.24296730011\n"
       ]
      }
     ],
     "prompt_number": 39
    },
    {
     "cell_type": "markdown",
     "metadata": {},
     "source": [
      "<b> Variance and Standard Deviation\n",
      "\n",
      "$ s^2  = \\sum_{i=1}^n (x_i - \\bar{x})^2 / (n-1)$\n",
      "\n",
      "$ \\sqrt{s^2} = \\sqrt{ \\sum_{i=1}^n (x_i - \\bar{x})^2 / (n-1)}$"
     ]
    },
    {
     "cell_type": "code",
     "collapsed": false,
     "input": [
      "d = 0.0\n",
      "for x in ylog:\n",
      "    d = d + (x-ylog_mean)**2.0\n",
      "\n",
      "ylog_var = d/(n-1)\n",
      "print ylog_var\n",
      "\n"
     ],
     "language": "python",
     "metadata": {},
     "outputs": [
      {
       "output_type": "stream",
       "stream": "stdout",
       "text": [
        "0.199837011813\n"
       ]
      }
     ],
     "prompt_number": 40
    },
    {
     "cell_type": "code",
     "collapsed": false,
     "input": [
      "ylog_std = math.sqrt(ylog_var)\n",
      "print ylog_std"
     ],
     "language": "python",
     "metadata": {},
     "outputs": [
      {
       "output_type": "stream",
       "stream": "stdout",
       "text": [
        "0.447031332027\n"
       ]
      }
     ],
     "prompt_number": 41
    },
    {
     "cell_type": "markdown",
     "metadata": {},
     "source": [
      "<b> Skewness\n",
      "\n",
      "$ \\sqrt{b_1} = \\frac{n}{(n-1)(n-1)} \\frac{1}{s^3} \\sum_{i=1}^n (x_i - \\bar{x})^3 $"
     ]
    },
    {
     "cell_type": "code",
     "collapsed": false,
     "input": [
      "ylog_skew = np.sum((ylog-ylog_mean)**3)/(ylog_std**3)\n",
      "ylog_skew = ylog_skew * (n/((n-2.0)*(n-1.0)))\n",
      "print ylog_skew"
     ],
     "language": "python",
     "metadata": {},
     "outputs": [
      {
       "output_type": "stream",
       "stream": "stdout",
       "text": [
        "0.0900558716223\n"
       ]
      }
     ],
     "prompt_number": 42
    },
    {
     "cell_type": "markdown",
     "metadata": {},
     "source": [
      "<b>Kutosis\n",
      "\n",
      "$ b_2 = \\frac{n(n+1)}{(n-1)(n-2)(n-3)} \\frac{1}{s^4} \\sum_{i=1}^n (x_i - \\bar{x})^4 - \\frac{3(n-1)(n-1)}{(n-2)(n-3)} $"
     ]
    },
    {
     "cell_type": "code",
     "collapsed": false,
     "input": [
      "ylog_kur = np.sum(((ylog-ylog_mean)**4))/(ylog_std**4)\n",
      "ylog_kur = ylog_kur * (n*(n+1.0)/((n-1.0)*(n-2.0)*(n-3.0)))\n",
      "ylog_kur = ylog_kur - (3*(n-1.0)*(n-1.0)/((n-2.0)*(n-3.0)))\n",
      "print ylog_kur"
     ],
     "language": "python",
     "metadata": {},
     "outputs": [
      {
       "output_type": "stream",
       "stream": "stdout",
       "text": [
        "-0.510838734263\n"
       ]
      }
     ],
     "prompt_number": 43
    },
    {
     "cell_type": "markdown",
     "metadata": {},
     "source": [
      "<b>Answers: Summary Table of Results\n",
      "---"
     ]
    },
    {
     "cell_type": "markdown",
     "metadata": {},
     "source": [
      "<table>\n",
      "<tr>\n",
      "<th>Number of Data Points = 20</th>\n",
      "<th>\"Raw\" data</th>\n",
      "<th>Log-Transformed data</th>\n",
      "</tr>\n",
      "<tr>\n",
      "<td><b>Arithmetic Mean</b></td>\n",
      "<td>28.6</td>\n",
      "<td>1.2</td>\n",
      "</tr>\n",
      "<tr>\n",
      "<td><b>Variance</b></td>\n",
      "<td>1001.6</td>\n",
      "<td>--</td>\n",
      "</tr>\n",
      "<tr>\n",
      "<td><b>Standard Deviation</b></td>\n",
      "<td>31.6</td>\n",
      "<td>--</td>\n",
      "</tr>\n",
      "<tr>\n",
      "<td><b>Standard Error of the Mean</b></td>\n",
      "<td>7.1</td>\n",
      "<td>--</td>\n",
      "</tr>\n",
      "<tr>\n",
      "<td><b>Skewness</b></td>\n",
      "<td>2.2</td>\n",
      "<td>0.1</td>\n",
      "</tr>\n",
      "<tr>\n",
      "<td><b>Kurtosis</b></td>\n",
      "<td>5.0</td>\n",
      "<td>-0.5</td>\n",
      "</tr>\n",
      "</table>"
     ]
    },
    {
     "cell_type": "markdown",
     "metadata": {},
     "source": [
      "Problem 1 c.)\n",
      "---"
     ]
    },
    {
     "cell_type": "markdown",
     "metadata": {},
     "source": [
      "<b>Answers</b>\n",
      "\n",
      "* The \"Raw\" data have a $\\sqrt{b_1} > 0$, therefore they are skewed to the right. They also have a $b_2 > 0$, therefore leptokurtic.\n",
      "* The Log-Transformed data have a $\\sqrt{b_1} > 0$, therefore it is skewed to the right. They also have a $b_2 < 0$, therefore platykurtic.\n",
      "* The Skewness and Kurtosis are closer to zero for the Log-transformed data, therefore that data set is closer to a normal distribution."
     ]
    },
    {
     "cell_type": "markdown",
     "metadata": {},
     "source": [
      "Problem 2: Hypothesis Testing: t-test\n",
      "---"
     ]
    },
    {
     "cell_type": "markdown",
     "metadata": {},
     "source": [
      "Problem 2 a.) Perform an unpaired t-test to figure out this problem\n",
      "---\n",
      "\n",
      "<b>Part i.) State $H_0$ and $H_1$ </b>\n",
      "\n",
      "$H_0$: The mean of the Uranium measuremetns from the sample ($\\mu_1$) is equal to the assumed mean of the population ($\\mu_0$). I.e. $\\mu_1 = \\mu_0 $\n",
      "\n",
      "\n",
      "$H_1$: The mean of the Uranium measurements from the sample is not equal to the mean of the population. I.e. $\\mu_1 \\ne \\mu_0 $\n",
      "\n",
      "\n"
     ]
    },
    {
     "cell_type": "markdown",
     "metadata": {},
     "source": [
      "<b> Part ii.) How many degrees of freedom are there for the t-test?</b>\n",
      "\n",
      "\n",
      "<b>Answer</b>: 19 degrees of freedom."
     ]
    },
    {
     "cell_type": "markdown",
     "metadata": {},
     "source": [
      "<b>Part iii.) Choose $\\alpha$ = 0.01; is this a one-tailed or two-tailed test?</b>\n",
      "\n",
      "\n",
      "<b>Answer</b>: two-tailed"
     ]
    },
    {
     "cell_type": "markdown",
     "metadata": {},
     "source": [
      "<b>Part iv.) What is $t_{crit}$ for your $\\alpha$ and $v$?</b>\n",
      "\n",
      "\n",
      "<b>Answer</b>: Using a two-tailed option, we do $\\alpha=0.5$% on each side. Therefore 2.861 and -2.861."
     ]
    },
    {
     "cell_type": "markdown",
     "metadata": {},
     "source": [
      "<b>Part v.) Calculate $t_{calc}$</b>\n",
      "\n",
      "\n",
      "$ t_{calc} = \\frac{\\bar{x}-\\mu}{s \\sqrt{1/n}} $"
     ]
    },
    {
     "cell_type": "code",
     "collapsed": false,
     "input": [
      "xbar = 28.6\n",
      "mu = 48.1\n",
      "s = 31.6\n",
      "\n",
      "tcalc = (xbar-mu)/(s*(math.sqrt(1/n)))\n",
      "print tcalc"
     ],
     "language": "python",
     "metadata": {},
     "outputs": [
      {
       "output_type": "stream",
       "stream": "stdout",
       "text": [
        "-2.75970414945\n"
       ]
      }
     ],
     "prompt_number": 51
    },
    {
     "cell_type": "markdown",
     "metadata": {},
     "source": [
      "<b>Part vi.) Make a decision and formulate it in a sentence.</b>\n",
      "\n",
      "<b>Answer</b>: tcalc (-2.7) within the range of my critical values, therefore we fail to reject the null hypothesis that the two means are equal to the 99% confidence limit."
     ]
    },
    {
     "cell_type": "markdown",
     "metadata": {},
     "source": [
      "Problem 2 b.) \n",
      "---\n",
      "What are the assumptions for this parametric t-test to be valid? Why might that not be the case with these data?\n",
      "\n",
      "\n",
      "<b>Answer</b>: we are assuming that the t-distribution is a fair approximation. From our earlier statistics on the Skewness and the Kutosis, we know that that may be a poor assumption."
     ]
    },
    {
     "cell_type": "markdown",
     "metadata": {},
     "source": [
      "Problem 2 c.) Second unpaired t-test with Log-transformed data\n",
      "---"
     ]
    },
    {
     "cell_type": "markdown",
     "metadata": {},
     "source": [
      "<b>Part i.) State $H_0$ and $H_1$ </b>\n",
      "\n",
      "$H_0$: The mean of the Uranium measuremetns from the lgo transformed sample ($\\mu_1$) is equal to the assumed mean of the population ($\\mu_0$). I.e. $\\mu_1 = \\mu_0 $\n",
      "\n",
      "\n",
      "$H_1$: The mean of the Uranium measurements from the sample is not equal to the mean of the population. I.e. $\\mu_1 \\ne \\mu_0 $"
     ]
    },
    {
     "cell_type": "markdown",
     "metadata": {},
     "source": [
      "<b> Part ii.) How many degrees of freedom are there for the t-test?</b>\n",
      "\n",
      "\n",
      "<b>Answer</b>: 19 degrees of freedom."
     ]
    },
    {
     "cell_type": "markdown",
     "metadata": {},
     "source": [
      "<b>Part iii.) Choose $\\alpha$ = 0.05; is this a one-tailed or two-tailed test?</b>\n",
      "\n",
      "\n",
      "<b>Answer</b>: two-tailed"
     ]
    },
    {
     "cell_type": "markdown",
     "metadata": {},
     "source": [
      "<b>Part iv.) What is $t_{crit}$ for your $\\alpha$ and $v$?</b>\n",
      "\n",
      "\n",
      "<b>Answer</b>: Using the two-tailed option, we do a $\\alpha = 2.5$% on each side. Therefore 2.093 and -2.093."
     ]
    },
    {
     "cell_type": "markdown",
     "metadata": {},
     "source": [
      "<b>Part v.) Calculate $t_{calc}$</b>\n",
      "\n",
      "\n",
      "$ t_{calc} = \\frac{\\bar{x}-\\mu}{s \\sqrt{1/n}} $"
     ]
    },
    {
     "cell_type": "code",
     "collapsed": false,
     "input": [
      "xbar = 1.2\n",
      "mu = 1.63\n",
      "s = 0.45\n",
      "\n",
      "tcalc = (xbar-mu)/(s*(math.sqrt(1/n)))\n",
      "print tcalc"
     ],
     "language": "python",
     "metadata": {},
     "outputs": [
      {
       "output_type": "stream",
       "stream": "stdout",
       "text": [
        "-4.273374357\n"
       ]
      }
     ],
     "prompt_number": 55
    },
    {
     "cell_type": "markdown",
     "metadata": {},
     "source": [
      "<b>Part vi.) Make a decision and formulate it in a sentence.</b>\n",
      "\n",
      "<b>Answer</b>: Our tcalc is outside our critital range and is reasonably far into the rejection space. Therefore we reject the null hypothesis and conclude that the two means are not equal to a 95% confidence limit."
     ]
    },
    {
     "cell_type": "markdown",
     "metadata": {},
     "source": [
      "Problem 2 d.)\n",
      "---\n",
      "\n",
      "Has your decision changed when using the log-transformed data? Either way, which test  would you trust more?\n",
      "\n",
      "<b>Answer</b>: Yes, the first test failed to reject H0 but the second test did reject H0. I would trust the log-transformed t-test more, since the 99% confidence test with the raw data had a tcalculated that was fairly close to being within the range of the critical values. The calculated t value for the second test was far outside the critical range."
     ]
    },
    {
     "cell_type": "code",
     "collapsed": false,
     "input": [],
     "language": "python",
     "metadata": {},
     "outputs": [],
     "prompt_number": 44
    }
   ],
   "metadata": {}
  }
 ]
}